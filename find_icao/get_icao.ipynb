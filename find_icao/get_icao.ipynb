{
 "cells": [
  {
   "cell_type": "code",
   "execution_count": 1,
   "metadata": {},
   "outputs": [
    {
     "name": "stdout",
     "output_type": "stream",
     "text": [
      "N1739K\n",
      "N2UZ\n",
      "N44BN\n",
      "N8997W\n",
      "N6NR\n",
      "N1206Z\n",
      "N71586\n",
      "N8051P\n",
      "N749WJ\n",
      "N504AF\n"
     ]
    }
   ],
   "source": [
    "# load in json \n",
    "import json\n",
    "\n",
    "crashes = json.load(open('cases2025-02-05_01-21.json'))\n",
    "\n",
    "\n",
    "registration_numbers = []\n",
    "for crash in crashes[:10]:\n",
    "    reg_number = crash['cm_vehicles'][0]['registrationNumber']\n",
    "    print(reg_number)\n",
    "    registration_numbers.append(reg_number)\n"
   ]
  },
  {
   "cell_type": "code",
   "execution_count": 3,
   "metadata": {},
   "outputs": [
    {
     "name": "stdout",
     "output_type": "stream",
     "text": [
      "A127EF\n",
      "A18F2B\n",
      "A5486A\n",
      "AC6A25\n",
      "A7C3C9\n",
      "A056F4\n",
      "A9922F\n",
      "AAF6F9\n",
      "AA15F6\n",
      "A648D2\n"
     ]
    }
   ],
   "source": [
    "from reg_to_icao import get_icao24\n",
    "from time import sleep\n",
    "\n",
    "icao_numbers = []\n",
    "for reg_number in registration_numbers:\n",
    "    icao = get_icao24(reg_number)\n",
    "    print(icao)\n",
    "    icao_numbers.append(icao)\n",
    "    sleep(1)\n",
    "\n"
   ]
  },
  {
   "cell_type": "code",
   "execution_count": 4,
   "metadata": {},
   "outputs": [],
   "source": [
    "\n",
    "# lets zip \n",
    "reg_to_icao = dict(zip(registration_numbers, icao_numbers))\n",
    "\n",
    "# lets save this to a json file\n",
    "with open('reg_to_icao.json', 'w') as f:\n",
    "    json.dump(reg_to_icao, f)\n",
    "\n"
   ]
  }
 ],
 "metadata": {
  "kernelspec": {
   "display_name": "venv",
   "language": "python",
   "name": "python3"
  },
  "language_info": {
   "codemirror_mode": {
    "name": "ipython",
    "version": 3
   },
   "file_extension": ".py",
   "mimetype": "text/x-python",
   "name": "python",
   "nbconvert_exporter": "python",
   "pygments_lexer": "ipython3",
   "version": "3.10.0"
  }
 },
 "nbformat": 4,
 "nbformat_minor": 2
}
